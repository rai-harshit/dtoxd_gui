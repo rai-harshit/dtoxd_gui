{
 "cells": [
  {
   "cell_type": "code",
   "execution_count": 86,
   "metadata": {},
   "outputs": [],
   "source": [
    "import pythoncom, time, win32api\n",
    "from win32com.taskscheduler import taskscheduler\n",
    "test_task_name='dtoxd.job'"
   ]
  },
  {
   "cell_type": "code",
   "execution_count": 87,
   "metadata": {},
   "outputs": [],
   "source": [
    "ts=pythoncom.CoCreateInstance(taskscheduler.CLSID_CTaskScheduler,None,\n",
    "                              pythoncom.CLSCTX_INPROC_SERVER,taskscheduler.IID_ITaskScheduler)"
   ]
  },
  {
   "cell_type": "code",
   "execution_count": 88,
   "metadata": {},
   "outputs": [
    {
     "name": "stdout",
     "output_type": "stream",
     "text": [
      "dtoxd.job\n",
      "Deleting existing task dtoxd.job\n"
     ]
    }
   ],
   "source": [
    "tasks=ts.Enum()\n",
    "for task in tasks:\n",
    "    print(task)\n",
    "if test_task_name in tasks:\n",
    "    print('Deleting existing task '+test_task_name)\n",
    "    ts.Delete(test_task_name)"
   ]
  },
  {
   "cell_type": "code",
   "execution_count": 89,
   "metadata": {},
   "outputs": [],
   "source": [
    "new_task=pythoncom.CoCreateInstance(taskscheduler.CLSID_CTask,None,\n",
    "                              pythoncom.CLSCTX_INPROC_SERVER,taskscheduler.IID_ITask)\n",
    "ts.AddWorkItem(test_task_name,new_task)  ## task object is modified in place"
   ]
  },
  {
   "cell_type": "code",
   "execution_count": 90,
   "metadata": {},
   "outputs": [],
   "source": [
    "new_task.SetFlags(taskscheduler.TASK_FLAG_INTERACTIVE|taskscheduler.TASK_FLAG_RUN_ONLY_IF_LOGGED_ON)\n",
    "new_task.SetIdleWait(1,10000)\n",
    "new_task.SetComment('test task with idle trigger')\n",
    "new_task.SetApplicationName('C:\\\\Program Files\\\\Sublime Text 3\\\\sublime_text.exe')\n",
    "new_task.SetPriority(taskscheduler.REALTIME_PRIORITY_CLASS)\n",
    "# new_task.SetParameters('-c\"import win32ui,time;win32ui.MessageBox(\\'why aint you doing no work ?\\');\"')\n",
    "# new_task.SetWorkingDirectory('C:\\\\Program Files\\\\Sublime Text 3')\n",
    "new_task.SetCreator('dtoxd')\n",
    "new_task.SetAccountInformation(win32api.GetUserName(),None)"
   ]
  },
  {
   "cell_type": "code",
   "execution_count": 91,
   "metadata": {},
   "outputs": [],
   "source": [
    "# run_time = time.localtime(time.time() + 30)\n",
    "# end_time = time.localtime(time.time() + 60*60*24)"
   ]
  },
  {
   "cell_type": "code",
   "execution_count": 92,
   "metadata": {},
   "outputs": [],
   "source": [
    "# tr_ind, tr = new_task.CreateTrigger()\n",
    "# tt=tr.GetTrigger()\n",
    "# tt.TriggerType=taskscheduler.TASK_EVENT_TRIGGER_AT_LOGON\n",
    "# tt.Flags = taskscheduler.TASK_TRIGGER_FLAG_HAS_END_DATE"
   ]
  },
  {
   "cell_type": "code",
   "execution_count": 93,
   "metadata": {},
   "outputs": [],
   "source": [
    "tr_ind, tr=new_task.CreateTrigger()\n",
    "tt=tr.GetTrigger()\n",
    "tt.TriggerType=taskscheduler.TASK_TIME_TRIGGER_DAILY\n",
    "tt.Flags=taskscheduler.HIGH_PRIORITY_CLASS"
   ]
  },
  {
   "cell_type": "code",
   "execution_count": 94,
   "metadata": {},
   "outputs": [],
   "source": [
    "tt.BeginYear =int(2019)\n",
    "tt.BeginMonth=int(6)\n",
    "tt.BeginDay=int(4)\n",
    "tt.StartMinute=int(48)\n",
    "tt.StartHour=int(19)\n"
   ]
  },
  {
   "cell_type": "code",
   "execution_count": 81,
   "metadata": {},
   "outputs": [],
   "source": [
    "# tt.BeginYear=int(time.strftime('%Y',run_time))\n",
    "# tt.BeginMonth=int(time.strftime('%m',run_time))\n",
    "# tt.BeginDay=int(time.strftime('%d',run_time))\n",
    "# tt.StartMinute=int(time.strftime('%M',run_time))\n",
    "# tt.StartHour=int(time.strftime('%H',run_time))"
   ]
  },
  {
   "cell_type": "code",
   "execution_count": 95,
   "metadata": {},
   "outputs": [],
   "source": [
    "# tt.EndYear=int(2019)\n",
    "# tt.EndMonth=int(12)\n",
    "# tt.EndDay=int(10)"
   ]
  },
  {
   "cell_type": "code",
   "execution_count": 96,
   "metadata": {},
   "outputs": [],
   "source": [
    "tt.Reserved1=int(11)"
   ]
  },
  {
   "cell_type": "code",
   "execution_count": 97,
   "metadata": {},
   "outputs": [],
   "source": [
    "# tt.EndYear=int(time.strftime('%Y',end_time))\n",
    "# tt.EndMonth=int(time.strftime('%m',end_time))\n",
    "# tt.EndDay=int(time.strftime('%d',end_time))\n",
    "tt.Reserved2=int(5)"
   ]
  },
  {
   "cell_type": "code",
   "execution_count": 98,
   "metadata": {},
   "outputs": [
    {
     "name": "stdout",
     "output_type": "stream",
     "text": [
      "At 7:48 PM every day, starting 6/4/2019\n"
     ]
    }
   ],
   "source": [
    "tr.SetTrigger(tt)\n",
    "print(new_task.GetTriggerString(tr_ind))\n",
    "pf=new_task.QueryInterface(pythoncom.IID_IPersistFile)\n",
    "pf.Save(None,1)"
   ]
  },
  {
   "cell_type": "code",
   "execution_count": null,
   "metadata": {},
   "outputs": [],
   "source": []
  }
 ],
 "metadata": {
  "kernelspec": {
   "display_name": "Python 3",
   "language": "python",
   "name": "python3"
  },
  "language_info": {
   "codemirror_mode": {
    "name": "ipython",
    "version": 3
   },
   "file_extension": ".py",
   "mimetype": "text/x-python",
   "name": "python",
   "nbconvert_exporter": "python",
   "pygments_lexer": "ipython3",
   "version": "3.7.3"
  }
 },
 "nbformat": 4,
 "nbformat_minor": 2
}
